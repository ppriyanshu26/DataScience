{
 "cells": [
  {
   "cell_type": "markdown",
   "id": "dd2847cf",
   "metadata": {},
   "source": [
    "# **Anomalies**"
   ]
  },
  {
   "cell_type": "code",
   "execution_count": null,
   "id": "a28d876e",
   "metadata": {},
   "outputs": [],
   "source": [
    "import pandas as pd\n",
    "import seaborn as sns\n",
    "import matplotlib.pyplot as plt\n",
    "from scipy import stats\n",
    "from sklearn.decomposition import PCA\n",
    "import numpy as np"
   ]
  },
  {
   "cell_type": "code",
   "execution_count": null,
   "id": "a89435d8",
   "metadata": {},
   "outputs": [],
   "source": [
    "# Dataset\n",
    "\n",
    "df = pd.read_excel('Online Retail.xlsx', engine='openpyxl')"
   ]
  },
  {
   "cell_type": "code",
   "execution_count": null,
   "id": "534c2126",
   "metadata": {},
   "outputs": [],
   "source": [
    "# Slicing\n",
    "\n",
    "data = df.head(500)\n",
    "\n",
    "data = data[['Quantity','UnitPrice','CustomerID']] "
   ]
  },
  {
   "cell_type": "code",
   "execution_count": null,
   "id": "876da7f4",
   "metadata": {},
   "outputs": [],
   "source": [
    "# Pairplot\n",
    "\n",
    "sns.pairplot(data)"
   ]
  },
  {
   "cell_type": "code",
   "execution_count": null,
   "id": "cda96abd",
   "metadata": {},
   "outputs": [],
   "source": [
    "# Boxplot\n",
    "\n",
    "plt.figure(figsize=(8,6))\n",
    "sns.boxplot(data[['Quantity','UnitPrice']])\n",
    "plt.title('Boxplot')\n",
    "plt.show()"
   ]
  },
  {
   "cell_type": "code",
   "execution_count": null,
   "id": "f8e555dd",
   "metadata": {},
   "outputs": [],
   "source": [
    "# Decomposition\n",
    "\n",
    "pca = PCA(n_components=2)\n",
    "df_pca = pd.DataFrame(pca.fit_transform(data), columns=['C1','C2'])"
   ]
  },
  {
   "cell_type": "code",
   "execution_count": null,
   "id": "a8860c2f",
   "metadata": {},
   "outputs": [],
   "source": [
    "# Scatterplot\n",
    "\n",
    "plt.figure(figsize=(8,6))\n",
    "sns.scatterplot(df_pca)\n",
    "plt.title('Scatter plot after PCA')\n",
    "plt.show()"
   ]
  },
  {
   "cell_type": "code",
   "execution_count": null,
   "id": "8e99b4ca",
   "metadata": {},
   "outputs": [],
   "source": [
    "# Boxplot\n",
    "\n",
    "plt.figure(figsize=(8,6))\n",
    "sns.boxplot(df_pca)\n",
    "plt.title('Scatter plot after PCA')\n",
    "plt.show()"
   ]
  },
  {
   "cell_type": "code",
   "execution_count": null,
   "id": "bc34c581",
   "metadata": {},
   "outputs": [],
   "source": [
    "# Anomalies\n",
    "\n",
    "z_score1 = stats.zscore(df_pca['C1'])\n",
    "z_score2 = stats.zscore(df_pca['C2'])\n",
    "\n",
    "anomalies1 =  df_pca['C1'][(abs(z_score1)>3)]\n",
    "anomalies2 =  df_pca['C2'][(abs(z_score2)>3)]"
   ]
  },
  {
   "cell_type": "code",
   "execution_count": null,
   "id": "6c5d7930",
   "metadata": {},
   "outputs": [],
   "source": [
    "# Plot the z scores\n",
    "\n",
    "fig, ax = plt.subplots(1,2, figsize=(8,6))\n",
    "\n",
    "ax[0].plot(z_score1)\n",
    "ax[0].set_title('Z-score of C1')\n",
    "\n",
    "ax[1].plot(z_score2)\n",
    "ax[1].set_title('Z-score of C2')\n",
    "\n",
    "plt.show()\n"
   ]
  },
  {
   "cell_type": "code",
   "execution_count": null,
   "id": "15746e50",
   "metadata": {},
   "outputs": [],
   "source": [
    "# Plot anomalies of C1\n",
    "\n",
    "threshold=3\n",
    "plt.figure(figsize=(8,6))\n",
    "plt.scatter(\n",
    "    df_pca[\"C1\"],\n",
    "    np.zeros_like(df_pca[\"C1\"]),\n",
    "    color=\"blue\",\n",
    "    label=\"Normal Data\",\n",
    "    alpha=0.5,\n",
    ")\n",
    "plt.scatter(\n",
    "    anomalies1,\n",
    "    np.zeros_like(anomalies1),\n",
    "    color=\"red\",\n",
    "    label=\"Anomalies\",\n",
    "    s=100,\n",
    ")\n",
    "plt.axvline(\n",
    "    x=threshold * df_pca[\"C1\"].std() + df_pca[\"C1\"].mean(),\n",
    "    color=\"orange\",\n",
    "    linestyle=\"--\",\n",
    "    label=\"Threshold\",\n",
    ")\n",
    "plt.axvline(\n",
    "    x=-threshold * df_pca[\"C1\"].std() + df_pca[\"C1\"].mean(),\n",
    "    color=\"orange\",\n",
    "    linestyle=\"--\",\n",
    ")\n",
    "plt.title(\"Anomaly Detection using Z-Scores\")\n",
    "plt.xlabel(\"Feature 1\")\n",
    "plt.yticks([])\n",
    "plt.legend()\n",
    "plt.show()"
   ]
  },
  {
   "cell_type": "code",
   "execution_count": null,
   "id": "65e2b402",
   "metadata": {},
   "outputs": [],
   "source": [
    "# Plot anomalies of C2\n",
    "\n",
    "threshold=3\n",
    "plt.figure(figsize=(8,6))\n",
    "plt.scatter(\n",
    "    df_pca[\"C2\"],\n",
    "    np.zeros_like(df_pca[\"C2\"]),\n",
    "    color=\"blue\",\n",
    "    label=\"Normal Data\",\n",
    "    alpha=0.5,\n",
    ")\n",
    "plt.scatter(\n",
    "    anomalies2,\n",
    "    np.zeros_like(anomalies2),\n",
    "    color=\"red\",\n",
    "    label=\"Anomalies\",\n",
    "    s=100,\n",
    ")\n",
    "plt.axvline(\n",
    "    x=threshold * df_pca[\"C2\"].std() + df_pca[\"C2\"].mean(),\n",
    "    color=\"orange\",\n",
    "    linestyle=\"--\",\n",
    "    label=\"Threshold\",\n",
    ")\n",
    "plt.axvline(\n",
    "    x=-threshold * df_pca[\"C2\"].std() + df_pca[\"C2\"].mean(),\n",
    "    color=\"orange\",\n",
    "    linestyle=\"--\",\n",
    ")\n",
    "plt.title(\"Anomaly Detection using Z-Scores\")\n",
    "plt.xlabel(\"Feature 1\")\n",
    "plt.yticks([])\n",
    "plt.legend()\n",
    "plt.show()"
   ]
  }
 ],
 "metadata": {
  "kernelspec": {
   "display_name": "base",
   "language": "python",
   "name": "python3"
  },
  "language_info": {
   "codemirror_mode": {
    "name": "ipython",
    "version": 3
   },
   "file_extension": ".py",
   "mimetype": "text/x-python",
   "name": "python",
   "nbconvert_exporter": "python",
   "pygments_lexer": "ipython3",
   "version": "3.12.4"
  }
 },
 "nbformat": 4,
 "nbformat_minor": 5
}
