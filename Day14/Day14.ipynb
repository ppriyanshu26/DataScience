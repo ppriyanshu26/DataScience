{
 "cells": [
  {
   "cell_type": "markdown",
   "id": "5b74ed52",
   "metadata": {},
   "source": [
    "# **📊 What is Categorical Data?**\n",
    "\n",
    "- **Categorical data** refers to variables that represent **categories or labels** rather than numeric values. These categories may or may not have an **inherent order**.\n",
    "\n",
    "- Categorical data is common in real-world datasets and often needs special handling during preprocessing (e.g., imputation, encoding).\n",
    "\n",
    "---\n",
    "\n",
    "## 🧩 Types of Categorical Data\n",
    "- Nominal & Ordinal\n",
    "\n",
    "    | Type              | Description                                  | Example Values                |\n",
    "    |-------------------|----------------------------------------------|-------------------------------|\n",
    "    | 🏷️ Nominal        | No natural order or ranking                  | `red`, `blue`, `green`        |\n",
    "    | 📏 Ordinal        | Has a meaningful order, but not numeric      | `low`, `medium`, `high`       |\n",
    "\n",
    "---\n",
    "\n",
    "## 📝 Examples of Categorical Data\n",
    "\n",
    "### 1. 🧥 Clothing Data (Nominal)\n",
    "- These variables represent **labels** with **no inherent order**.\n",
    "\n",
    "    | Color  | Brand  | Type   |\n",
    "    |--------|--------|--------|\n",
    "    | Red    | Nike   | Hoodie |\n",
    "    | Blue   | Adidas | Jacket |\n",
    "    | Green  | Puma   | Shirt  |\n",
    "\n",
    "---\n",
    "\n",
    "### 2. 📦 Product Ratings (Ordinal)\n",
    "- `Size` and `Rating` are **ordinal** — they have a **ranking**, but the intervals between them are not necessarily equal.\n",
    "\n",
    "    | Product | Size   | Rating  |\n",
    "    |---------|--------|---------|\n",
    "    | A       | Small  | Low     |\n",
    "    | B       | Medium | Medium  |\n",
    "    | C       | Large  | High    |\n",
    "\n",
    "---\n",
    "\n",
    "## 🛠️ Why Categorical Data Matters\n",
    "\n",
    "* Categorical data:\n",
    "    - Cannot be used directly in most mathematical models\n",
    "    - Must be **encoded** into numbers (e.g., one-hot, label encoding)\n",
    "    - Can contain **missing values** that need special handling\n",
    "    - Might hold important **patterns and relationships**\n",
    "\n",
    "---\n",
    "\n",
    "## 🧪 Sample: Mixed Data with Missing Values\n",
    "- `—` = missing values\n",
    "- All columns are categorical\n",
    "- Data must be cleaned before modeling\n",
    "\n",
    "    | Color | Animal | Size   | Brand  | Type |\n",
    "    |-------|--------|--------|--------|------|\n",
    "    | Red   | Dog    | Small  | Nike   | A    |\n",
    "    | Blue  | —      | Large  | Adidas | —    |\n",
    "    | —     | Cat    | —      | Nike   | B    |\n",
    "\n",
    "---\n",
    "\n",
    "## 📌 Summary\n",
    "- Learn how to handle missing categorical values\n",
    "- Explore encoding techniques like **One-Hot**, **Label**, or **Ordinal Encoding**\n",
    "\n",
    "    | Concept       | Key Point                                   |\n",
    "    |---------------|---------------------------------------------|\n",
    "    | 📊 Categorical | Represents labels, not numbers              |\n",
    "    | 🧷 Nominal     | No order (e.g., `red`, `dog`)               |\n",
    "    | 📏 Ordinal     | Ordered (e.g., `small` < `medium` < `large`)|\n",
    "    | ⚠️ Must Encode| Cannot be fed directly into ML models        |\n",
    "    | 🧼 Imputation  | Missing values should be filled appropriately|\n",
    "\n",
    "---"
   ]
  },
  {
   "cell_type": "code",
   "execution_count": null,
   "id": "488dae53",
   "metadata": {},
   "outputs": [],
   "source": [
    "import pandas as pd\n",
    "import matplotlib.pyplot as plt\n",
    "import seaborn as sns\n",
    "import numpy as np\n",
    "from sklearn.impute import SimpleImputer"
   ]
  },
  {
   "cell_type": "code",
   "execution_count": null,
   "id": "91776a20",
   "metadata": {},
   "outputs": [],
   "source": [
    "# Dataset\n",
    "\n",
    "df = pd.DataFrame({\n",
    "    'color': ['red', 'blue', np.nan, 'green', 'red', np.nan],      \n",
    "    'animal': ['dog', np.nan, 'cat', 'dog', np.nan, 'cat'],        \n",
    "    'size': ['small', 'large', np.nan, 'medium', 'small', np.nan], \n",
    "    'brand': ['nike', 'adidas', 'nike', np.nan, 'puma', np.nan],   \n",
    "    'type': ['A', np.nan, 'B', 'A', 'B', np.nan]                   \n",
    "})\n",
    "\n",
    "print(\"Original DataFrame:\")\n",
    "print(df)"
   ]
  },
  {
   "cell_type": "code",
   "execution_count": null,
   "id": "13f5acbe",
   "metadata": {},
   "outputs": [],
   "source": [
    "df.isnull().sum()"
   ]
  },
  {
   "cell_type": "code",
   "execution_count": null,
   "id": "3a576608",
   "metadata": {},
   "outputs": [],
   "source": [
    "# Mode imputation\n",
    "\n",
    "df['color'] = df['color'].fillna(df['color'].mode()[0])\n",
    "\n",
    "print(df)"
   ]
  },
  {
   "cell_type": "code",
   "execution_count": null,
   "id": "b6fb710a",
   "metadata": {},
   "outputs": [],
   "source": [
    "# Constant label\n",
    "\n",
    "df['animal'] = df['animal'].fillna('Missing')\n",
    "\n",
    "print(df)"
   ]
  },
  {
   "cell_type": "code",
   "execution_count": null,
   "id": "d603439b",
   "metadata": {},
   "outputs": [],
   "source": [
    "# Missing indicator\n",
    "\n",
    "df['size_missing'] = df['size'].isnull().astype(int)\n",
    "df['size'] = df['size'].fillna('Missing')\n",
    "\n",
    "print(df)"
   ]
  },
  {
   "cell_type": "code",
   "execution_count": null,
   "id": "2e9c78ea",
   "metadata": {},
   "outputs": [],
   "source": [
    "# One-hot encode\n",
    "\n",
    "df = pd.get_dummies(df, columns=['brand'], drop_first=False, dtype=int)\n",
    "\n",
    "print(df)"
   ]
  },
  {
   "cell_type": "code",
   "execution_count": null,
   "id": "abe75c79",
   "metadata": {},
   "outputs": [],
   "source": [
    "# Model based\n",
    "\n",
    "imputer = SimpleImputer(strategy='most_frequent')\n",
    "df[['type']] = imputer.fit_transform(df[['type']])\n",
    "\n",
    "print(df)"
   ]
  }
 ],
 "metadata": {
  "kernelspec": {
   "display_name": "base",
   "language": "python",
   "name": "python3"
  },
  "language_info": {
   "codemirror_mode": {
    "name": "ipython",
    "version": 3
   },
   "file_extension": ".py",
   "mimetype": "text/x-python",
   "name": "python",
   "nbconvert_exporter": "python",
   "pygments_lexer": "ipython3",
   "version": "3.12.4"
  }
 },
 "nbformat": 4,
 "nbformat_minor": 5
}
