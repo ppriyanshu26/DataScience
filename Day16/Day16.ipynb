{
 "cells": [
  {
   "cell_type": "markdown",
   "id": "276c804b",
   "metadata": {},
   "source": [
    "# **📊 Clustering in Unsupervised Learning**\n",
    "\n",
    "- 🔍 No labeled data — model finds patterns on its own\n",
    "- 🎯 Groups similar data points into clusters\n",
    "- 🧠 Used for customer segmentation, image compression, anomaly detection\n",
    "- 📦 Algorithms try to minimize intra-cluster distance and maximize inter-cluster distance\n",
    "\n",
    "---\n",
    "\n",
    "## ⚙️ KMeans Clustering\n",
    "\n",
    "- 📍 Selects `k` initial centroids randomly\n",
    "- 🔁 Iteratively assigns points to the nearest centroid\n",
    "- 📌 Recalculates centroids based on assigned points\n",
    "- 🚀 Fast and scalable, but needs `k` predefined\n",
    "- ⚠️ Sensitive to outliers and initial centroid positions\n",
    "\n",
    "---\n",
    "\n",
    "## 🧬 Agglomerative Clustering\n",
    "\n",
    "- 🌲 Bottom-up approach (starts with each point as its own cluster)\n",
    "- 🔗 Merges closest clusters step by step\n",
    "- 🧱 Forms a hierarchy (dendrogram) — no need to predefine `k`\n",
    "- 🐢 Slower on large datasets but interpretable\n",
    "- 🎓 Good for hierarchical relationships\n",
    "\n",
    "---\n",
    "\n",
    "## 🪓 Divisive Clustering\n",
    "\n",
    "- 🔝 Top-down approach (starts with all data in one cluster)\n",
    "- ✂️ Recursively splits clusters into smaller ones\n",
    "- 🧩 Less common than agglomerative\n",
    "- 🧮 Can be computationally intensive\n",
    "- 🔍 Useful when you know global structure better than local\n",
    "\n",
    "---"
   ]
  },
  {
   "cell_type": "code",
   "execution_count": null,
   "id": "4e309773",
   "metadata": {},
   "outputs": [],
   "source": [
    "import pandas as pd\n",
    "import matplotlib.pyplot as plt\n",
    "from sklearn.cluster import KMeans\n",
    "from sklearn.datasets import load_iris\n",
    "from sklearn.cluster import AgglomerativeClustering \n",
    "from sklearn.decomposition import PCA\n",
    "from sklearn.metrics import silhouette_score, davies_bouldin_score,adjusted_rand_score"
   ]
  },
  {
   "cell_type": "code",
   "execution_count": null,
   "id": "d34704ce",
   "metadata": {},
   "outputs": [],
   "source": [
    "# Dataset\n",
    "\n",
    "iris = load_iris()\n",
    "x = iris.data\n",
    "print(x)"
   ]
  },
  {
   "cell_type": "code",
   "execution_count": null,
   "id": "f6ac2821",
   "metadata": {},
   "outputs": [],
   "source": [
    "# KMeans clustering\n",
    "\n",
    "kmeans = KMeans(n_clusters=3, random_state=75)\n",
    "labels = kmeans.fit_predict(x)\n",
    "print(labels)"
   ]
  },
  {
   "cell_type": "code",
   "execution_count": null,
   "id": "502bb1d2",
   "metadata": {},
   "outputs": [],
   "source": [
    "# Agglomerative clustering\n",
    "\n",
    "model = AgglomerativeClustering(n_clusters=3)\n",
    "labels = model.fit_predict(x)\n",
    "print(labels)"
   ]
  },
  {
   "cell_type": "code",
   "execution_count": null,
   "id": "b0336f98",
   "metadata": {},
   "outputs": [],
   "source": [
    "# Clusters in 2D\n",
    "\n",
    "pca = PCA(n_components=2)\n",
    "x_reduced = pca.fit_transform(x)\n",
    "print(x_reduced)"
   ]
  },
  {
   "cell_type": "code",
   "execution_count": null,
   "id": "d5acf755",
   "metadata": {},
   "outputs": [],
   "source": [
    "# Visualization\n",
    "\n",
    "plt.figure(figsize=(7,5))\n",
    "plt.scatter(x_reduced[:,0],x_reduced[:,1],c=labels)\n",
    "plt.grid()\n",
    "plt.show()"
   ]
  },
  {
   "cell_type": "code",
   "execution_count": null,
   "id": "a118c48d",
   "metadata": {},
   "outputs": [],
   "source": [
    "# Model performance\n",
    "\n",
    "silhoutte = silhouette_score(x, labels)\n",
    "devies = davies_bouldin_score(x, labels)\n",
    "adj = adjusted_rand_score(iris.target, labels)\n",
    "print(f\"Silhoutte Score: {silhoutte:.3f}\\nDevies Bouldin Score: {devies:.3f}\\nAdjusted Rand Score: {adj:.3f}\")"
   ]
  }
 ],
 "metadata": {
  "kernelspec": {
   "display_name": "base",
   "language": "python",
   "name": "python3"
  },
  "language_info": {
   "codemirror_mode": {
    "name": "ipython",
    "version": 3
   },
   "file_extension": ".py",
   "mimetype": "text/x-python",
   "name": "python",
   "nbconvert_exporter": "python",
   "pygments_lexer": "ipython3",
   "version": "3.12.4"
  }
 },
 "nbformat": 4,
 "nbformat_minor": 5
}
