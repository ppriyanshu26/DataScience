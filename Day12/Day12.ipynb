{
 "cells": [
  {
   "cell_type": "markdown",
   "id": "fcfec2d7",
   "metadata": {},
   "source": [
    "# **DATA CLEANING**\n",
    "---"
   ]
  },
  {
   "cell_type": "code",
   "execution_count": null,
   "id": "1089a7f5",
   "metadata": {},
   "outputs": [],
   "source": [
    "# Importing modules\n",
    "import pandas as pd\n",
    "import matplotlib.pyplot as plt\n",
    "import seaborn as sns\n",
    "\n",
    "# Data\n",
    "data = {'Name': ['Alice', 'Bob', 'Charlie', 'David', 'Eve', 'Alice'],\n",
    "        'Age': [20, 21, None, 23, 22, 20],\n",
    "        'Grade': ['A', 'B', 'C', 'B', 'A', 'A'],}\n"
   ]
  },
  {
   "cell_type": "code",
   "execution_count": null,
   "id": "ae984cc3",
   "metadata": {},
   "outputs": [],
   "source": [
    "df = pd.DataFrame(data)\n",
    "print(\"Original DataFrame:\")\n",
    "print(df)"
   ]
  },
  {
   "cell_type": "code",
   "execution_count": null,
   "id": "f28ff078",
   "metadata": {},
   "outputs": [],
   "source": [
    "df.fillna({'Age': df['Age'].mean()}, inplace=True)\n",
    "print(df)"
   ]
  },
  {
   "cell_type": "code",
   "execution_count": null,
   "id": "13a2f01b",
   "metadata": {},
   "outputs": [],
   "source": [
    "df.fillna({'Age': 0}, inplace=True)\n",
    "print(df)"
   ]
  },
  {
   "cell_type": "code",
   "execution_count": null,
   "id": "04bca7e7",
   "metadata": {},
   "outputs": [],
   "source": [
    "df.drop_duplicates(inplace=True)\n",
    "print(df)"
   ]
  },
  {
   "cell_type": "code",
   "execution_count": null,
   "id": "1e77f673",
   "metadata": {},
   "outputs": [],
   "source": [
    "df['Age'] = df['Age'].astype('int')\n",
    "print(df)"
   ]
  },
  {
   "cell_type": "code",
   "execution_count": null,
   "id": "d85176fc",
   "metadata": {},
   "outputs": [],
   "source": [
    "# Dataset\n",
    "\n",
    "df1 = pd.read_csv('sales_data.csv')\n",
    "\n",
    "\n",
    "# Cleaning data\n",
    "\n",
    "df1.drop_duplicates(inplace=True)\n",
    "df1.index = [1,2,3,4,5]\n",
    "print(df1)\n",
    "\n",
    "\n",
    "# Graph between Sales and Date\n",
    "\n",
    "fig, ax = plt.subplots(1,2, figsize=(12, 8))\n",
    "\n",
    "sns.lineplot(x='Date', y='Sales', ax = ax[0], data=df1, marker='o', markersize=8)\n",
    "ax[0].set_title('Sales over Time')\n",
    "ax[0].set_xlabel('Date')\n",
    "ax[0].set_ylabel('Sales')\n",
    "ax[0].grid()\n",
    "ax[0].set_xticks(range(len(df1['Date'])))\n",
    "ax[0].set_xticklabels(df1['Date'], rotation=45)\n",
    "\n",
    "# Graph between Sales and Category\n",
    "\n",
    "sns.barplot(x='Product_Category', y='Sales', ax = ax[1], data=df1, errorbar=('ci', 0))\n",
    "ax[1].set_title('Sales by Category')\n",
    "ax[1].set_xlabel('Category')\n",
    "ax[1].set_ylabel('Sales')\n",
    "ax[1].grid(axis='y')\n",
    "\n",
    "plt.xticks(rotation=45)\n",
    "plt.tight_layout()\n",
    "plt.savefig('sales.png', dpi=300)\n",
    "plt.show()\n",
    "\n",
    "\n",
    "# Heatmap\n",
    "\n",
    "corr_matrix = df1.corr(numeric_only=True)\n",
    "plt.figure(figsize=(8, 6))\n",
    "sns.heatmap(corr_matrix, annot=True, cmap='coolwarm', center=0)\n",
    "plt.title('Correlation Heatmap')\n",
    "plt.tight_layout()\n",
    "plt.savefig('heatmap.png', dpi=300) \n",
    "plt.show()\n",
    "\n",
    "\n",
    "# Regression Plot\n",
    "\n",
    "plt.figure(figsize=(8, 6))\n",
    "sns.regplot(x='Sales', y='Quantity', data=df1, color='red')\n",
    "plt.title('Regression Plot')\n",
    "plt.xlabel('Sales')\n",
    "plt.ylabel('Quantity')\n",
    "plt.grid()\n",
    "plt.savefig('regression.png', dpi=300)\n",
    "plt.show()"
   ]
  }
 ],
 "metadata": {
  "kernelspec": {
   "display_name": "base",
   "language": "python",
   "name": "python3"
  },
  "language_info": {
   "codemirror_mode": {
    "name": "ipython",
    "version": 3
   },
   "file_extension": ".py",
   "mimetype": "text/x-python",
   "name": "python",
   "nbconvert_exporter": "python",
   "pygments_lexer": "ipython3",
   "version": "3.12.4"
  }
 },
 "nbformat": 4,
 "nbformat_minor": 5
}
