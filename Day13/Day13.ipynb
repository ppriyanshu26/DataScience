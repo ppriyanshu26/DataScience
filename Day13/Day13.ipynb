{
 "cells": [
  {
   "cell_type": "markdown",
   "id": "05675c79",
   "metadata": {},
   "source": [
    "# **📊 Interquartile Range (IQR)**\n",
    "\n",
    "---\n",
    "\n",
    "### 🧮 `Mean`: \n",
    "* The average of all values in the dataset.\n",
    "```python\n",
    "    mean = sum(data)/len(data)\n",
    "```\n",
    "\n",
    "---\n",
    "\n",
    "### 🔺 `Max`: \n",
    "* The largest value in the dataset.\n",
    "```python\n",
    "    max_value = max(data)\n",
    "```\n",
    "\n",
    "---\n",
    "\n",
    "### 🔹 `Median (Q2)`: \n",
    "* The middle value when data is sorted.\n",
    "```python\n",
    "    median = sorted(data)[len(data)//2]\n",
    "```\n",
    "\n",
    "---\n",
    "\n",
    "### 🔻 `Q1 (First Quartile)`: \n",
    "* The median of the lower half of the data (25th percentile).\n",
    "```python\n",
    "    q1 = sorted(data)[:len(data)//2][len(sorted(data)[:len(data)//2])//2]\n",
    "```\n",
    "\n",
    "---\n",
    "\n",
    "### 🔸 `Q2 (Second Quartile)`: \n",
    "* The same as the median, the middle value in the dataset.\n",
    "```python\n",
    "    q2 = median\n",
    "```\n",
    "\n",
    "---\n",
    "\n",
    "### 🔺 `Q3 (Third Quartile)`: \n",
    "* The median of the upper half of the data (75th percentile).\n",
    "```python\n",
    "    q3 = sorted(data)[len(data)//2:][len(sorted(data)[len(data)//2:])//2]\n",
    "```\n",
    "\n",
    "---\n",
    "\n",
    "### 📏 `Range`: \n",
    "* The difference between the max and min values.\n",
    "```python\n",
    "    range_value = max(data) - min(data)\n",
    "```\n",
    "\n",
    "---\n",
    "\n",
    "### 📦 `IQR`: \n",
    "* The difference between Q3 and Q1 (spread of middle 50% of data).\n",
    "```python\n",
    "    iqr = q3 - q1\n",
    "```\n",
    "\n",
    "---\n",
    "\n",
    "### 🚨 `1.5x IQR Rule`: \n",
    "* Any value outside the range [Q1 - 1.5 * IQR, Q3 + 1.5 * IQR] is an outlier.\n",
    "```python\n",
    "    lower_bound = q1 - 1.5 * iqr\n",
    "    upper_bound = q3 + 1.5 * iqr\n",
    "```\n",
    "\n",
    "---\n",
    "\n",
    "### ⚠️ `Outliers`: \n",
    "* Identify any values outside the range as outliers.\n",
    "```python\n",
    "    outliers = [x for x in data if x < lower_bound or x > upper_bound]\n",
    "```\n",
    "\n",
    "---"
   ]
  },
  {
   "cell_type": "code",
   "execution_count": null,
   "id": "fb78e0a3",
   "metadata": {},
   "outputs": [],
   "source": [
    "import pandas as pd\n",
    "import matplotlib.pyplot as plt\n",
    "import seaborn as sns\n",
    "import numpy as np\n",
    "from sklearn.impute import KNNImputer"
   ]
  },
  {
   "cell_type": "code",
   "execution_count": null,
   "id": "8c0970ce",
   "metadata": {},
   "outputs": [],
   "source": [
    "data = {'Students':[\"Alice\", \"Bob\", \"Charlie\", \"David\", \"Eva\"],\n",
    "        \"Height\":[165,170,172,168,175]}\n",
    "\n",
    "df = pd.DataFrame(data)\n",
    "sns.boxplot(y = df[\"Height\"], color=\"yellow\")\n",
    "plt.title(\"Boxplot of Students' Heights\")\n",
    "plt.ylabel(\"Height\")\n",
    "plt.show()\n"
   ]
  },
  {
   "cell_type": "code",
   "execution_count": null,
   "id": "7f00380e",
   "metadata": {},
   "outputs": [],
   "source": [
    "# Box plot of diamonds\n",
    "\n",
    "data = sns.load_dataset(\"diamonds\")\n",
    "sns.boxplot(x=\"cut\", y=\"price\", data=data)\n",
    "plt.title(\"Box plot of diamond prices by cut\")\n",
    "plt.show()\n",
    "\n",
    "\n",
    "# Violin plot of diamonds\n",
    "\n",
    "data = sns.load_dataset(\"diamonds\")\n",
    "sns.violinplot(x=\"cut\", y=\"price\", hue=\"cut\", data=data, palette=\"muted\")\n",
    "plt.title(\"Violin plot of price by cut\")\n",
    "plt.show()"
   ]
  },
  {
   "cell_type": "code",
   "execution_count": null,
   "id": "7ea23ddf",
   "metadata": {},
   "outputs": [],
   "source": [
    "# KNN to fillna\n",
    "\n",
    "data = pd.DataFrame({'Age':[25,30,np.nan,35],'Salary':[400000,500000,600000,np.nan]})\n",
    "\n",
    "imputer = KNNImputer(n_neighbors=2)\n",
    "imputed_data = imputer.fit_transform(data)\n",
    "imputed_data = pd.DataFrame(imputed_data, columns=data.columns)\n",
    "print(imputed_data)"
   ]
  },
  {
   "cell_type": "code",
   "execution_count": null,
   "id": "fa14a56c",
   "metadata": {},
   "outputs": [],
   "source": [
    "# Load data\n",
    "\n",
    "data = pd.read_csv(\"products_data.csv\")\n",
    "print(\"Original DataFrame:\")\n",
    "print(data)\n",
    "print(data.isnull().sum())"
   ]
  },
  {
   "cell_type": "code",
   "execution_count": null,
   "id": "43b7d83e",
   "metadata": {},
   "outputs": [],
   "source": [
    "# KNN impute\n",
    "\n",
    "imputer = KNNImputer(n_neighbors=2)\n",
    "imputed_data = imputer.fit_transform(data[['Price','Stock','Rating']])\n",
    "df = pd.DataFrame(imputed_data, columns=['Price','Stock','Rating'])\n",
    "df.insert(0, 'Product_ID', data['Product_ID'])\n",
    "df.insert(1, 'Product_Name', data['Product_Name'])\n",
    "print(df)\n"
   ]
  },
  {
   "cell_type": "code",
   "execution_count": null,
   "id": "d416db57",
   "metadata": {},
   "outputs": [],
   "source": [
    "# Visualization\n",
    "\n",
    "plt.figure(figsize=(10, 5))\n",
    "sns.boxplot(data=df)\n",
    "plt.title(\"Boxplot of Products' Prices\")\n",
    "plt.xlabel(\"Products\")\n",
    "plt.ylabel(\"Price\")\n",
    "plt.show()"
   ]
  },
  {
   "cell_type": "code",
   "execution_count": null,
   "id": "2f8944f7",
   "metadata": {},
   "outputs": [],
   "source": [
    "# Heatmap\n",
    "\n",
    "corr_mat = df.corr(numeric_only=True)\n",
    "print(corr_mat)\n",
    "\n",
    "plt.figure(figsize=(10, 5))\n",
    "sns.heatmap(corr_mat, annot=True, cmap='Spectral')\n",
    "plt.title(\"Correlation Heatmap\")\n",
    "plt.show()"
   ]
  },
  {
   "cell_type": "code",
   "execution_count": null,
   "id": "ebd44896",
   "metadata": {},
   "outputs": [],
   "source": [
    "# Bar plot\n",
    "\n",
    "plt.figure(figsize=(8,6))\n",
    "sns.barplot(y=df['Price'], x=df['Stock'], errorbar=('ci',0))\n",
    "plt.xlabel(\"Stocks\")\n",
    "plt.ylabel('Price')\n",
    "plt.grid(axis='y')\n",
    "plt.title(\"Products with their stock vs price\")\n",
    "plt.show()"
   ]
  },
  {
   "cell_type": "code",
   "execution_count": null,
   "id": "85718255",
   "metadata": {},
   "outputs": [],
   "source": [
    "# Regression Plot\n",
    "\n",
    "plt.figure(figsize=(8,5))\n",
    "sns.regplot(y='Stock', x='Rating',color='y', data= df)\n",
    "plt.title('Stock v/s Rating')\n",
    "plt.show()"
   ]
  },
  {
   "cell_type": "code",
   "execution_count": null,
   "id": "0df7d2a2",
   "metadata": {},
   "outputs": [],
   "source": [
    "# Linear Model Plot\n",
    "\n",
    "plt.figure(figsize=(8,5))\n",
    "sns.lmplot(y='Stock', x='Rating', hue='Product_Name', data= df, )\n",
    "plt.title('Stock v/s Rating')\n",
    "plt.grid()\n",
    "plt.show()"
   ]
  }
 ],
 "metadata": {
  "kernelspec": {
   "display_name": "base",
   "language": "python",
   "name": "python3"
  },
  "language_info": {
   "codemirror_mode": {
    "name": "ipython",
    "version": 3
   },
   "file_extension": ".py",
   "mimetype": "text/x-python",
   "name": "python",
   "nbconvert_exporter": "python",
   "pygments_lexer": "ipython3",
   "version": "3.12.4"
  }
 },
 "nbformat": 4,
 "nbformat_minor": 5
}
