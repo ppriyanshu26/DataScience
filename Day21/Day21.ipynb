{
 "cells": [
  {
   "cell_type": "markdown",
   "id": "8137a430",
   "metadata": {},
   "source": [
    "# **📘 Support Vector Machines (SVM)**\n",
    "\n",
    "## 🔍 What is SVM?\n",
    "Support Vector Machine (SVM) is a **supervised learning algorithm** used for **classification** and **regression** tasks. It works by finding the **optimal hyperplane** that best separates the data into different classes.\n",
    "\n",
    "---\n",
    "\n",
    "## ⚙️ The SVM Algorithm\n",
    "- The goal of SVM is to **maximize the margin** between data points of different classes.\n",
    "- The data points closest to the hyperplane are called **support vectors**, and they influence the position and orientation of the hyperplane.\n",
    "\n",
    "---\n",
    "\n",
    "## 🧠 Kernel Trick\n",
    "- Real-world data is often **not linearly separable**.\n",
    "- The **kernel trick** allows us to **transform data into higher dimensions** so that a **linear separator (hyperplane)** can be used.\n",
    "- Popular kernels include:\n",
    "  - **Linear Kernel**\n",
    "  - **Polynomial Kernel**\n",
    "  - **RBF (Radial Basis Function)** / Gaussian Kernel\n",
    "\n",
    "---\n",
    "\n",
    "## 🧩 Soft Margin SVM and Regularization\n",
    "- Perfect separation isn't always possible or desirable (due to noise).\n",
    "- **Soft Margin SVM** allows some misclassifications but still finds a good decision boundary.\n",
    "- The **C parameter** controls the trade-off between maximizing margin and minimizing classification error (regularization).\n",
    "\n",
    "---\n",
    "\n",
    "## 🧪 Evaluating SVM Models\n",
    "- Use metrics such as:\n",
    "  - ✅ Accuracy\n",
    "  - 📉 Precision, Recall, F1-Score\n",
    "  - 📊 Confusion Matrix\n",
    "- **Cross-validation** helps ensure the model generalizes well to unseen data.\n",
    "\n",
    "---\n",
    "\n",
    "## 🧱 Practical Considerations and Challenges\n",
    "- 🌀 **Scaling**: SVMs are sensitive to feature scaling — use `StandardScaler` or `MinMaxScaler`.\n",
    "- 🧠 **Kernel choice** is critical and depends on the data.\n",
    "- 🧮 **Computational cost** increases with large datasets (especially with non-linear kernels).\n",
    "- ⚖️ **Choosing the right hyperparameters** (`C`, `gamma`) is essential — often done via **GridSearchCV**.\n",
    "\n",
    "---\n",
    "\n",
    "## 🌍 Real-world Applications of SVM\n",
    "- 📧 **Spam Detection**\n",
    "- 🧬 **Bioinformatics** (e.g., cancer detection from gene expression data)\n",
    "- 📸 **Image Classification**\n",
    "- 💳 **Fraud Detection**\n",
    "- 🧠 **Face Detection**\n",
    "\n",
    "---"
   ]
  },
  {
   "cell_type": "code",
   "execution_count": null,
   "id": "25ffd91c",
   "metadata": {},
   "outputs": [],
   "source": [
    "import numpy as np\n",
    "import matplotlib.pyplot as plt\n",
    "from sklearn import datasets, svm\n",
    "from sklearn.model_selection import train_test_split, GridSearchCV\n",
    "from sklearn.preprocessing import StandardScaler\n",
    "from sklearn.metrics import accuracy_score, classification_report, confusion_matrix"
   ]
  },
  {
   "cell_type": "code",
   "execution_count": null,
   "id": "4b19c16a",
   "metadata": {},
   "outputs": [],
   "source": [
    "# Dataset\n",
    "\n",
    "iris = datasets.load_iris()\n",
    "x, y = iris.data, iris.target"
   ]
  },
  {
   "cell_type": "code",
   "execution_count": null,
   "id": "55759021",
   "metadata": {},
   "outputs": [],
   "source": [
    "# Scaling\n",
    "\n",
    "scaler = StandardScaler()\n",
    "x_scaled = scaler.fit_transform(x)"
   ]
  },
  {
   "cell_type": "code",
   "execution_count": null,
   "id": "e87ddff7",
   "metadata": {},
   "outputs": [],
   "source": [
    "# SVM\n",
    "\n",
    "x_train, x_test, y_train, y_test = train_test_split(x_scaled, y, test_size=0.3, random_state=42)\n",
    "\n",
    "model = svm.SVC(kernel='rbf', C=1.0, gamma='scale')\n",
    "model.fit(x_train, y_train)"
   ]
  },
  {
   "cell_type": "code",
   "execution_count": null,
   "id": "ef82a185",
   "metadata": {},
   "outputs": [],
   "source": [
    "# Hyperparameter\n",
    "param_grid = {\n",
    "    'C': [0.1, 1, 10],\n",
    "    'gamma': ['scale', 0.1, 1, 10],\n",
    "    'kernel': ['rbf', 'linear', 'poly']\n",
    "}\n",
    "grid = GridSearchCV(svm.SVC(), param_grid, refit=True, verbose=0, cv=5)\n",
    "grid.fit(x_train, y_train)\n",
    "\n",
    "print(\"\\nBest Parameters from GridSearchCV:\", grid.best_params_)"
   ]
  },
  {
   "cell_type": "code",
   "execution_count": null,
   "id": "7bdf4043",
   "metadata": {},
   "outputs": [],
   "source": [
    "# Re-evaluate\n",
    "\n",
    "best_model = grid.best_estimator_\n",
    "y_pred_best = best_model.predict(x_test)\n",
    "print(\"Accuracy (Best Model):\", accuracy_score(y_test, y_pred_best))"
   ]
  },
  {
   "cell_type": "code",
   "execution_count": null,
   "id": "85bc29dc",
   "metadata": {},
   "outputs": [],
   "source": [
    "# Plot\n",
    "\n",
    "plt.figure(figsize=(8, 6))\n",
    "plt.scatter(x_test[:, 0], x_test[:, 1], c=y_pred_best, cmap='viridis', edgecolor='k', s=100)\n",
    "plt.title(\"SVM Predictions\")\n",
    "plt.xlabel(\"Feature 1\")\n",
    "plt.ylabel(\"Feature 2\")\n",
    "plt.grid()\n",
    "plt.show()"
   ]
  }
 ],
 "metadata": {
  "kernelspec": {
   "display_name": "base",
   "language": "python",
   "name": "python3"
  },
  "language_info": {
   "codemirror_mode": {
    "name": "ipython",
    "version": 3
   },
   "file_extension": ".py",
   "mimetype": "text/x-python",
   "name": "python",
   "nbconvert_exporter": "python",
   "pygments_lexer": "ipython3",
   "version": "3.12.4"
  }
 },
 "nbformat": 4,
 "nbformat_minor": 5
}
