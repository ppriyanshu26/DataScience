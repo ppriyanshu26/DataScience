{
 "cells": [
  {
   "cell_type": "code",
   "execution_count": null,
   "id": "30c28e52",
   "metadata": {},
   "outputs": [],
   "source": [
    "import pandas as pd\n",
    "import matplotlib.pyplot as plt\n",
    "import seaborn as sns\n",
    "from sklearn.decomposition import PCA\n",
    "from sklearn.model_selection import train_test_split\n",
    "from sklearn.linear_model import LinearRegression\n",
    "from sklearn.metrics import r2_score, root_mean_squared_error\n",
    "from sklearn.preprocessing import StandardScaler"
   ]
  },
  {
   "cell_type": "code",
   "execution_count": null,
   "id": "2bdde06d",
   "metadata": {},
   "outputs": [],
   "source": [
    "# Data\n",
    "\n",
    "data = pd.read_csv(\"PoductDemand.csv\")\n",
    "data.set_index(\"ID\",inplace=True)\n",
    "data.index.name = None\n",
    "\n",
    "data['Total Price'] = data['Total Price'].fillna(data['Total Price'].mean())\n",
    "data.drop_duplicates(inplace=True)"
   ]
  },
  {
   "cell_type": "code",
   "execution_count": null,
   "id": "a85ecd8f",
   "metadata": {},
   "outputs": [],
   "source": [
    "# Plot\n",
    "\n",
    "plt.figure(figsize=(8,6))\n",
    "sns.pairplot(data)\n",
    "plt.grid()\n",
    "plt.show()"
   ]
  },
  {
   "cell_type": "code",
   "execution_count": null,
   "id": "1a9572f1",
   "metadata": {},
   "outputs": [],
   "source": [
    "# Heatmap\n",
    "\n",
    "plt.figure(figsize=(8,6))\n",
    "sns.heatmap(data.corr())\n",
    "plt.title(\"Correlation\")\n",
    "plt.show()"
   ]
  },
  {
   "cell_type": "code",
   "execution_count": null,
   "id": "390c7ff7",
   "metadata": {},
   "outputs": [],
   "source": [
    "# Regplot\n",
    "\n",
    "plt.figure(figsize=(8,6))\n",
    "sns.regplot(y=data[\"Total Price\"], x=data[\"Base Price\"])\n",
    "plt.title(\"Regression\")\n",
    "plt.show()"
   ]
  },
  {
   "cell_type": "code",
   "execution_count": null,
   "id": "acf50e02",
   "metadata": {},
   "outputs": [],
   "source": [
    "# Boxplot\n",
    "\n",
    "plt.figure(figsize=(8,6))\n",
    "sns.boxplot(data)\n",
    "plt.title(\"Boxplot\")\n",
    "plt.show()"
   ]
  },
  {
   "cell_type": "code",
   "execution_count": null,
   "id": "c80500d6",
   "metadata": {},
   "outputs": [],
   "source": [
    "# Histogram\n",
    "\n",
    "plt.figure(figsize=(12,8))\n",
    "sns.histplot(data)\n",
    "plt.title(\"Histogram\")\n",
    "plt.show()"
   ]
  },
  {
   "cell_type": "code",
   "execution_count": null,
   "id": "cbb61fe2",
   "metadata": {},
   "outputs": [],
   "source": [
    "# Standardization\n",
    "\n",
    "scaler = StandardScaler()\n",
    "scaled_data = pd.DataFrame(scaler.fit_transform(data),columns = data.columns)"
   ]
  },
  {
   "cell_type": "code",
   "execution_count": null,
   "id": "b7161fac",
   "metadata": {},
   "outputs": [],
   "source": [
    "# Comparison\n",
    "\n",
    "fig, ax = plt.subplots(1,2, figsize = (8,12))\n",
    "\n",
    "sns.histplot(data, ax=ax[0])\n",
    "ax[0].set_title(\"Histogram\")\n",
    "\n",
    "sns.histplot(scaled_data, ax=ax[1])\n",
    "ax[1].set_title(\"Histogram after Standardization\")\n",
    "#ax[1].set_xlim(-5, 5)    \n",
    "#ax[1].set_ylim(0, 5000)\n",
    "\n",
    "plt.show()"
   ]
  },
  {
   "cell_type": "code",
   "execution_count": null,
   "id": "1f0bd3dd",
   "metadata": {},
   "outputs": [],
   "source": [
    "# Decomposition\n",
    "\n",
    "pca = PCA(n_components=2)\n",
    "df_pca = pd.DataFrame(pca.fit_transform(data.drop(\"Units Sold\", axis=1)), columns=['PC1',\"PC2\"])\n",
    "\n",
    "df_pca.head()"
   ]
  },
  {
   "cell_type": "code",
   "execution_count": null,
   "id": "5a8bd6e5",
   "metadata": {},
   "outputs": [],
   "source": [
    "# Heatmap\n",
    "\n",
    "plt.figure(figsize=(8,6))\n",
    "sns.heatmap(df_pca.corr(), cmap=\"viridis\")\n",
    "plt.title(\"Correlation after PCA\")\n",
    "plt.show()"
   ]
  },
  {
   "cell_type": "code",
   "execution_count": null,
   "id": "7be0dac6",
   "metadata": {},
   "outputs": [],
   "source": [
    "# Regplot\n",
    "\n",
    "plt.figure(figsize=(8,6))\n",
    "sns.regplot(y=df_pca[\"PC1\"], x=df_pca[\"PC2\"])\n",
    "plt.title(\"No correlation regression plot\")\n",
    "plt.show()"
   ]
  },
  {
   "cell_type": "code",
   "execution_count": null,
   "id": "574be633",
   "metadata": {},
   "outputs": [],
   "source": [
    "# Boxplot\n",
    "\n",
    "plt.figure(figsize=(8,6))\n",
    "sns.boxplot(df_pca)\n",
    "plt.title(\"Boxplot after PCA\")\n",
    "plt.show()"
   ]
  },
  {
   "cell_type": "code",
   "execution_count": null,
   "id": "b98ee0ae",
   "metadata": {},
   "outputs": [],
   "source": [
    "# Histogram\n",
    "\n",
    "plt.figure(figsize=(12,8))\n",
    "sns.histplot(df_pca)\n",
    "plt.title(\"Histogram after PCA\")\n",
    "plt.show()"
   ]
  },
  {
   "cell_type": "code",
   "execution_count": null,
   "id": "c4969931",
   "metadata": {},
   "outputs": [],
   "source": [
    "# Standardization\n",
    "\n",
    "scaler = StandardScaler()\n",
    "scaled_pca = pd.DataFrame(scaler.fit_transform(df_pca),columns = df_pca.columns)"
   ]
  },
  {
   "cell_type": "code",
   "execution_count": null,
   "id": "795ca770",
   "metadata": {},
   "outputs": [],
   "source": [
    "# Comparison\n",
    "\n",
    "fig, ax = plt.subplots(1,2, figsize = (12,6))\n",
    "\n",
    "sns.histplot(scaled_pca, ax=ax[0])\n",
    "ax[0].set_title(\"Histogram\")\n",
    "\n",
    "sns.histplot(scaled_pca, ax=ax[1])\n",
    "ax[1].set_title(\"Histogram after Standardization\")\n",
    "\n",
    "plt.show()"
   ]
  },
  {
   "cell_type": "code",
   "execution_count": null,
   "id": "b357bc9a",
   "metadata": {},
   "outputs": [],
   "source": [
    "# Model\n",
    "\n",
    "x = df_pca\n",
    "y = data[\"Units Sold\"]\n",
    "\n",
    "x_train, x_test, y_train, y_test = train_test_split(x,y, random_state=42, shuffle=True, test_size=0.2)\n",
    "\n",
    "model = LinearRegression()\n",
    "model.fit(x_train,y_train)"
   ]
  },
  {
   "cell_type": "code",
   "execution_count": null,
   "id": "79a064f3",
   "metadata": {},
   "outputs": [],
   "source": [
    "# Accuracy\n",
    "\n",
    "y_pred = model.predict(x_test)\n",
    "\n",
    "rmse = root_mean_squared_error(y_test,y_pred)\n",
    "r2 = r2_score(y_test,y_pred)\n",
    "\n",
    "print(f\"Root Mean Squared Error: {rmse:.2f}\\nR2 Score: {r2:.2f}\")"
   ]
  }
 ],
 "metadata": {
  "kernelspec": {
   "display_name": "base",
   "language": "python",
   "name": "python3"
  },
  "language_info": {
   "codemirror_mode": {
    "name": "ipython",
    "version": 3
   },
   "file_extension": ".py",
   "mimetype": "text/x-python",
   "name": "python",
   "nbconvert_exporter": "python",
   "pygments_lexer": "ipython3",
   "version": "3.12.4"
  }
 },
 "nbformat": 4,
 "nbformat_minor": 5
}
