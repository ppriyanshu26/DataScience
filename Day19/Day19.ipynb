{
 "cells": [
  {
   "cell_type": "markdown",
   "id": "7604d083",
   "metadata": {},
   "source": [
    "# **Multiple Regression**"
   ]
  },
  {
   "cell_type": "code",
   "execution_count": null,
   "id": "0ed1afbe",
   "metadata": {},
   "outputs": [],
   "source": [
    "import pandas as pd\n",
    "import statsmodels.api as sm\n",
    "import matplotlib.pyplot as plt \n",
    "import seaborn as sns"
   ]
  },
  {
   "cell_type": "code",
   "execution_count": null,
   "id": "409daec9",
   "metadata": {},
   "outputs": [],
   "source": [
    "# Dataset\n",
    "\n",
    "data = {'Years of Experience': [1,2,3,4,5,6],\n",
    "        'Education Level':[1,1,2,2,3,3],\n",
    "        'Salary': [30,35,50,55,70,75]}\n",
    "\n",
    "data = pd.DataFrame(data)\n",
    "\n",
    "x = data[['Years of Experience','Education Level']]\n",
    "y = data['Salary']"
   ]
  },
  {
   "cell_type": "code",
   "execution_count": null,
   "id": "9ffb87da",
   "metadata": {},
   "outputs": [],
   "source": [
    "# Intercept\n",
    "\n",
    "x = sm.add_constant(x)"
   ]
  },
  {
   "cell_type": "code",
   "execution_count": null,
   "id": "327f31be",
   "metadata": {},
   "outputs": [],
   "source": [
    "# Model\n",
    "\n",
    "model = sm.OLS(y,x).fit()\n",
    "print(model.summary())"
   ]
  },
  {
   "cell_type": "code",
   "execution_count": null,
   "id": "da787742",
   "metadata": {},
   "outputs": [],
   "source": [
    "# Predict\n",
    "\n",
    "new_data = pd.DataFrame({\n",
    "                        'const':1,\n",
    "                        'Years Of Experience':[6],\n",
    "                        'Education Level':[3]})\n",
    "\n",
    "predicted_salary = model.predict(new_data)\n",
    "print(f\"Predicted Salary: {predicted_salary[0]:.3f}\")"
   ]
  },
  {
   "cell_type": "code",
   "execution_count": null,
   "id": "80bf9ccb",
   "metadata": {},
   "outputs": [],
   "source": [
    "# Dataset\n",
    "\n",
    "df = pd.read_csv('NorthAmericaUniversities.csv', delimiter=\",\", encoding=\"ISO-8859-1\")\n",
    "df = df.dropna()"
   ]
  },
  {
   "cell_type": "code",
   "execution_count": null,
   "id": "20185b2e",
   "metadata": {},
   "outputs": [],
   "source": [
    "# Numeric Conversion\n",
    "\n",
    "def numeric_conversion(x):\n",
    "    if isinstance(x, str):\n",
    "        x = x.replace(\"$\",\"\").replace(\",\",\"\")\n",
    "        if \"B\" in x:\n",
    "            return float(x.replace(\"B\",\"\"))*1e9\n",
    "        elif \"M\" in x:\n",
    "            return float(x.replace(\"M\",\"\"))*1e6\n",
    "        else:\n",
    "            return float(x)\n",
    "    else:\n",
    "        return float(x)\n",
    "\n",
    "df[\"Minimum Tuition cost\"] = df[\"Minimum Tuition cost\"].apply(numeric_conversion)\n",
    "df[\"Endowment\"] = df[\"Endowment\"].apply(numeric_conversion)"
   ]
  },
  {
   "cell_type": "code",
   "execution_count": null,
   "id": "f8a80f43",
   "metadata": {},
   "outputs": [],
   "source": [
    "# Heatmap\n",
    "\n",
    "corr = df.corr(numeric_only=True)\n",
    "\n",
    "plt.figure(figsize=(8,5))\n",
    "sns.heatmap(corr, cmap='coolwarm',annot=True)\n",
    "plt.show()"
   ]
  },
  {
   "cell_type": "code",
   "execution_count": null,
   "id": "b3b0b962",
   "metadata": {},
   "outputs": [],
   "source": [
    "# Model\n",
    "\n",
    "x = df[['Academic Staff', 'Endowment']]\n",
    "y = df['Minimum Tuition cost']\n",
    "x = sm.add_constant(x)\n",
    "model = sm.OLS(y,x).fit()\n",
    "print(model.summary())"
   ]
  },
  {
   "cell_type": "code",
   "execution_count": null,
   "id": "28119e5f",
   "metadata": {},
   "outputs": [],
   "source": [
    "# Predict\n",
    "\n",
    "new_data = pd.DataFrame({\n",
    "    'const': [1],\n",
    "    'Academic Staff': [8189],\n",
    "    'Endowment': [1.920000e+10] \n",
    "})\n",
    "\n",
    "# Predict tuition\n",
    "predicted_tuition = model.predict(new_data)\n",
    "print(f\"Predicted Tuition: ${predicted_tuition[0]:,.2f}\")"
   ]
  }
 ],
 "metadata": {
  "kernelspec": {
   "display_name": "base",
   "language": "python",
   "name": "python3"
  },
  "language_info": {
   "codemirror_mode": {
    "name": "ipython",
    "version": 3
   },
   "file_extension": ".py",
   "mimetype": "text/x-python",
   "name": "python",
   "nbconvert_exporter": "python",
   "pygments_lexer": "ipython3",
   "version": "3.12.4"
  }
 },
 "nbformat": 4,
 "nbformat_minor": 5
}
