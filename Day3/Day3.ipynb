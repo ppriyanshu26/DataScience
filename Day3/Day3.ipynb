{
 "cells": [
  {
   "cell_type": "markdown",
   "id": "786512ef",
   "metadata": {},
   "source": [
    "# 🐍 **What is Python?**\n",
    "* Python is a high-level, general-purpose programming language used in web, data science, AI, automation, and more 🌍.\n",
    "* It’s known for simplicity, readability, and vast library support 📚.\n",
    "\n",
    "---\n",
    "\n",
    "## 🔧 Key Features of Python\n",
    "1. ✅ Interpreted & interactive\n",
    "2. 🧩 Modular and object-oriented\n",
    "3. 🔁 Rich standard libraries\n",
    "4. 🐍 Cross-platform support\n",
    "5. 🧪 Great for rapid prototyping\n",
    "6. 🔍 IDE support (VSCode, PyCharm)\n",
    "\n",
    "---\n",
    "\n",
    "## 📥 Taking Input in Python\n",
    "* ✏️ Use input() to take input from the user\n",
    "```python\n",
    "    name = input(\"Enter your name: \")\n",
    "    print(\"Hello\", name)\n",
    "```\n",
    "    \n",
    "* 🧠 Python Recognizes Data Type Automatically\n",
    "    - No need to specify int, str, etc. It figures it out 🧠✨\n",
    "\n",
    "---\n",
    "\n",
    "## 📤 Output in Python\n",
    "* Use print() to display output:\n",
    "```python\n",
    "    print(\"Welcome to Python!\")\n",
    "```\n",
    "\n",
    "---"
   ]
  },
  {
   "cell_type": "code",
   "execution_count": null,
   "id": "e987a7ec",
   "metadata": {},
   "outputs": [],
   "source": [
    "name = input(\"Enter your name: \")\n",
    "print(name)"
   ]
  },
  {
   "cell_type": "markdown",
   "id": "9acee145",
   "metadata": {},
   "source": [
    "## 🧠 Python Variables: Basics\n",
    "* 🔖 A variable is a name given to a memory location to store a value.\n",
    "* 🧮 You can assign values like count = 10 or name = \"Alex\" directly.\n",
    "\n",
    "---\n",
    "\n",
    "## 📏 Variable Naming Rules\n",
    "1. 🔤 Only letters (A-Z, a-z), numbers (0-9), and _ are allowed.\n",
    "2. ❌ No spaces or special characters!\n",
    "3. 🚫 Can't start with a number\n",
    "4. ✅ x1 is okay, ❌ 1x is not.\n",
    "5. 🔒 Can't use Python keywords (like if, for, class, etc.).\n",
    "6. ✍️ Case-sensitive: name ≠ Name.\n",
    "\n",
    "---"
   ]
  },
  {
   "cell_type": "code",
   "execution_count": null,
   "id": "8473a59e",
   "metadata": {},
   "outputs": [],
   "source": [
    "a = input(\"Enter a string: \")\n",
    "b = int(input(\"Enter a num: \"))\n",
    "c = int(input(\"Enter a num: \"))\n",
    "print(\"Name:\", a)\n",
    "print(\"Sum:\", c+b)\n",
    "print(type(a))"
   ]
  },
  {
   "cell_type": "markdown",
   "id": "5dd780e2",
   "metadata": {},
   "source": [
    "# **TASK 1:**\n",
    "Find given number is even or odd."
   ]
  },
  {
   "cell_type": "code",
   "execution_count": null,
   "id": "cb8d7a98",
   "metadata": {},
   "outputs": [],
   "source": [
    "n = int(input())\n",
    "if(n%2 == 0):\n",
    "    print(n, \"is even\")\n",
    "else:\n",
    "    print(n, \"is odd\")"
   ]
  },
  {
   "cell_type": "markdown",
   "id": "a88d18c7",
   "metadata": {},
   "source": [
    "## 🔤 Strings in Python\n",
    "* A sequence of characters (letters, numbers, symbols).\n",
    "* Enclosed in 'single' or \"double\" quotes.\n",
    "* Immutable – can't change after creation.\n",
    "\n",
    "---\n",
    "\n",
    "## 🧰 Inbuilt String Functions\n",
    "1. len() ➡️ returns length of string\n",
    "2. min() ➡️ character with smallest ASCII value\n",
    "3. max() ➡️ character with highest ASCII value\n",
    "\n",
    "---"
   ]
  },
  {
   "cell_type": "code",
   "execution_count": null,
   "id": "b60be4aa",
   "metadata": {},
   "outputs": [],
   "source": [
    "a = \"Hello\"\n",
    "print(\"Max:\", max(a))\n",
    "print(\"Min:\", min(a))\n",
    "print(\"Length:\", len(a))\n",
    "for i in a:\n",
    "    print(ord(i))"
   ]
  },
  {
   "cell_type": "code",
   "execution_count": null,
   "id": "a8c52d8e",
   "metadata": {},
   "outputs": [],
   "source": [
    "# String concatenation\n",
    "a = \"Hello\"\n",
    "b = \"Good evening\"\n",
    "print(a+\" \"+b)"
   ]
  },
  {
   "cell_type": "code",
   "execution_count": null,
   "id": "dbf944bc",
   "metadata": {},
   "outputs": [],
   "source": [
    "# String slicing\n",
    "a = \"Hello Good evening\"\n",
    "print(\"5th character:\", a[4])\n",
    "print(\"2nd word:\", a[6:11])\n",
    "print(\"Reverse:\", a[::-1])"
   ]
  },
  {
   "cell_type": "code",
   "execution_count": null,
   "id": "a719607a",
   "metadata": {},
   "outputs": [],
   "source": [
    "# String methods\n",
    "a = \"Hello Good evening\"\n",
    "print(\"Uppercase:\", a.upper())\n",
    "print(\"Lowercase:\", a.lower())\n",
    "print(\"Titlecase:\", a.title())\n",
    "print(\"Swapcase:\", a.swapcase())\n",
    "print(\"Capitalize:\", a.capitalize())\n",
    "print(\"Count of 'o':\", a.count('o'))\n",
    "print(\"Index of 'o':\", a.index('o'))\n",
    "print(\"Find 'o':\", a.find('o'))\n",
    "print(\"Replace 'o' with 'a':\", a.replace('o', 'a'))\n",
    "print(\"Split:\", a.split())"
   ]
  },
  {
   "cell_type": "code",
   "execution_count": null,
   "id": "8d678592",
   "metadata": {},
   "outputs": [],
   "source": [
    "# String reversal\n",
    "a = \"Hello Good evening\"\n",
    "for i in range(len(a)-1, -1, -1):\n",
    "    print(a[i], end=\"\")"
   ]
  },
  {
   "cell_type": "markdown",
   "id": "6d63df4d",
   "metadata": {},
   "source": [
    "# **TASK 2:** \n",
    "Find average of 2 numbers."
   ]
  },
  {
   "cell_type": "code",
   "execution_count": null,
   "id": "5d617e83",
   "metadata": {},
   "outputs": [],
   "source": [
    "a = int(input(\"Enter a number: \"))\n",
    "b = int(input(\"Enter a number: \"))\n",
    "print(f\"Average of {a} and {b} is {(a+b)/2}\")"
   ]
  }
 ],
 "metadata": {
  "kernelspec": {
   "display_name": "base",
   "language": "python",
   "name": "python3"
  },
  "language_info": {
   "codemirror_mode": {
    "name": "ipython",
    "version": 3
   },
   "file_extension": ".py",
   "mimetype": "text/x-python",
   "name": "python",
   "nbconvert_exporter": "python",
   "pygments_lexer": "ipython3",
   "version": "3.12.4"
  }
 },
 "nbformat": 4,
 "nbformat_minor": 5
}
