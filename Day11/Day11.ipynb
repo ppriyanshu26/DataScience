{
 "cells": [
  {
   "cell_type": "code",
   "execution_count": null,
   "id": "935c8b2d",
   "metadata": {},
   "outputs": [],
   "source": [
    "import seaborn as sns\n",
    "import matplotlib.pyplot as plt\n",
    "import pandas as pd"
   ]
  },
  {
   "cell_type": "code",
   "execution_count": null,
   "id": "8c5f7ccc",
   "metadata": {},
   "outputs": [],
   "source": [
    "# Pairplots\n",
    "\n",
    "df = sns.load_dataset(\"tips\")\n",
    "sns.pairplot(df)\n",
    "plt.show()\n"
   ]
  },
  {
   "cell_type": "code",
   "execution_count": null,
   "id": "90c8e704",
   "metadata": {},
   "outputs": [],
   "source": [
    "# Correlation Matrix\n",
    "\n",
    "data = {'Student': ['A', 'B', 'C', 'D', 'E'],\n",
    "        'Math': [90, 80, 70, 60, 50],\n",
    "        'English': [70, 85, 65, 60, 55],\n",
    "        'Science': [95, 78, 75, 62, 58]\n",
    "}\n",
    "df = pd.DataFrame(data)\n",
    "corr_matrix = df[['Math','English','Science']].corr()\n",
    "plt.figure(figsize=(8, 6))\n",
    "sns.heatmap(corr_matrix, annot=True, cmap='coolwarm', fmt='.2f')\n",
    "plt.title('Correlation Heatmap')\n",
    "plt.show()"
   ]
  },
  {
   "cell_type": "code",
   "execution_count": null,
   "id": "dbbe5351",
   "metadata": {},
   "outputs": [],
   "source": [
    "# Regression Plot\n",
    "\n",
    "data = {\n",
    "    'Hours':[1, 2, 3, 4, 5],       # Independent variable\n",
    "    'Scores':[50, 60, 70, 80, 90]  # Dependent variable\n",
    "}\n",
    "df = pd.DataFrame(data)\n",
    "plt.figure(figure=(8,6))\n",
    "sns.regplot(x='Hours', y='Scores', data=df)\n",
    "plt.title('Regression Plot')\n",
    "plt.show()"
   ]
  },
  {
   "cell_type": "code",
   "execution_count": null,
   "id": "73b1c77c",
   "metadata": {},
   "outputs": [],
   "source": [
    "# Univariate Analysis\n",
    "mean_age = df['Scores'].mean()\n",
    "median_age = df['Scores'].median()\n",
    "std_age = df['Scores'].std()\n",
    "range_age = df['Scores'].max() - df['Scores'].min()\n",
    "print(f\"Mean Score: {mean_age}\")\n",
    "print(f\"Median Score: {median_age}\")\n",
    "print(f\"Standard Deviation of Score: {std_age}\")\n",
    "print(f\"Range of Score: {range_age}\")\n",
    "\n",
    "df['Scores'].describe()\n"
   ]
  },
  {
   "cell_type": "markdown",
   "id": "88027750",
   "metadata": {},
   "source": [
    "# **TASK 1:**\n",
    "\n",
    "### **Problem Statement**:\n",
    "* You are provided with a CSV dataset named products_data.csv, which contains information about various products, including features such as product specifications, features, and prices.\n",
    "* Your task is to perform Exploratory Data Analysis (EDA) and build a predictive regression model to predict the price of a product based on its features.\n",
    "\n",
    "---\n",
    "\n",
    "### **Dataset**:\n",
    "* CSV File Name: products_data.csv\n",
    "* The dataset contains columns such as:\n",
    "* Product specifications (e.g., weight, dimensions, color, etc.)\n",
    "* Features (e.g., brand, category, etc.)\n",
    "* Target Variable: Price (the price of each product)\n",
    "\n",
    "---\n",
    "\n",
    "### **Steps**:\n",
    "1. `Data Loading and Preprocessing:`\n",
    "    - Load the dataset from the CSV file products_data.csv.\n",
    "    - Check for missing values and perform data cleaning (handle missing values if necessary).\n",
    "    - Explore basic statistics and distribution of numerical features.\n",
    "2. `Exploratory Data Analysis (EDA):`\n",
    "    - Perform univariate analysis by visualizing the distribution of the target variable (Price).\n",
    "    - Examine the correlation between features using a correlation matrix.\n",
    "    - Use pair plots to visualize relationships between the features and the target variable (Price).\n",
    "    - Visualize relationships between individual features and the target variable using regression plots.\n",
    "3. `Predictive Modeling:`\n",
    "    - Split the dataset into training and testing sets.\n",
    "    - Build a linear regression model to predict the Price based on the features.\n",
    "    - Evaluate the performance of the regression model using Mean Squared Error (MSE) and Root Mean Squared Error (RMSE).\n",
    "4. `Model Evaluation:`\n",
    "    - Visualize the comparison between actual and predicted values of the target variable (Price) using a scatter plot.\n",
    "\n",
    "---\n",
    "\n",
    "### **Requirements:**\n",
    "* Perform all steps using Python and the libraries pandas, seaborn, matplotlib, and scikit-learn.\n",
    "* The final model should predict the Price of products based on the features and be evaluated on a separate test set.\n",
    "* Provide detailed visualizations that help in understanding the data and model performance.\n",
    "\n",
    "---\n",
    "\n",
    "### **Output:**\n",
    "* The Python code used to perform EDA, train the model, and evaluate it.\n",
    "* Visualizations and explanations for EDA results.\n",
    "* Evaluation metrics (MSE and RMSE) of the trained regression model.\n",
    "* A final conclusion on the quality of the model based on the evaluation results."
   ]
  },
  {
   "cell_type": "code",
   "execution_count": null,
   "id": "c28d3f67",
   "metadata": {},
   "outputs": [],
   "source": [
    "# Sample data set\n",
    "\n",
    "data = sns.load_dataset(\"penguins\")\n",
    "data.isnull().sum()\n",
    "data = data.dropna()\n",
    "data.isnull().sum()\n",
    "#data.describe()\n"
   ]
  },
  {
   "cell_type": "code",
   "execution_count": null,
   "id": "31f9d49e",
   "metadata": {},
   "outputs": [],
   "source": [
    "corr_matrix = data[['bill_length_mm','bill_depth_mm','flipper_length_mm','body_mass_g']].corr()\n",
    "plt.figure(figsize=(8, 6))\n",
    "sns.heatmap(corr_matrix, annot=True, cmap='coolwarm', fmt='.2f')\n",
    "plt.title('Correlation Heatmap')\n",
    "plt.show()"
   ]
  },
  {
   "cell_type": "code",
   "execution_count": null,
   "id": "d0aad9e9",
   "metadata": {},
   "outputs": [],
   "source": [
    "plt.figure(figsize=(8, 6))\n",
    "sns.pairplot(data, hue='species', diag_kind='kde')\n",
    "plt.show()"
   ]
  },
  {
   "cell_type": "code",
   "execution_count": null,
   "id": "0617ea9b",
   "metadata": {},
   "outputs": [],
   "source": [
    "fig, (ax1,ax2) = plt.subplots(1, 2, figsize=(12, 6))\n",
    "sns.regplot(x='bill_length_mm', y='bill_depth_mm', data=data, ax=ax1)\n",
    "ax1.set_title('Bill Length vs Bill Depth')\n",
    "sns.regplot(x='flipper_length_mm', y='body_mass_g', data=data, ax=ax2)\n",
    "ax2.set_title('Flipper Length vs Body Mass')\n",
    "plt.tight_layout()\n",
    "plt.show()\n",
    "\n",
    "# Predictive modelling in further topics"
   ]
  }
 ],
 "metadata": {
  "kernelspec": {
   "display_name": "base",
   "language": "python",
   "name": "python3"
  },
  "language_info": {
   "codemirror_mode": {
    "name": "ipython",
    "version": 3
   },
   "file_extension": ".py",
   "mimetype": "text/x-python",
   "name": "python",
   "nbconvert_exporter": "python",
   "pygments_lexer": "ipython3",
   "version": "3.12.4"
  }
 },
 "nbformat": 4,
 "nbformat_minor": 5
}
