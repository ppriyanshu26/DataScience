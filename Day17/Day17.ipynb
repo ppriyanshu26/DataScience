{
 "cells": [
  {
   "cell_type": "markdown",
   "id": "de5cf966",
   "metadata": {},
   "source": [
    "# **Random Forest Classifier**"
   ]
  },
  {
   "cell_type": "code",
   "execution_count": null,
   "id": "11c443eb",
   "metadata": {},
   "outputs": [],
   "source": [
    "import pandas as pd\n",
    "from sklearn.model_selection import train_test_split\n",
    "from sklearn.ensemble import RandomForestClassifier\n",
    "from sklearn.metrics import accuracy_score\n",
    "from sklearn.tree import plot_tree\n",
    "import matplotlib.pyplot as plt\n",
    "from sklearn.preprocessing import LabelEncoder"
   ]
  },
  {
   "cell_type": "code",
   "execution_count": null,
   "id": "cb1acbdd",
   "metadata": {},
   "outputs": [],
   "source": [
    "# Dataset\n",
    "\n",
    "data = {\"Temperature\": [30, 25, 27, 22, 29, 26, 31, 23, 28, 24],\n",
    "        \"Humidity\": [80, 60, 75, 50, 85, 65, 90, 55, 70, 58],\n",
    "        \"Windy\": [0,1,0,1,0,1,0,1,0,1],\n",
    "        \"RainTomorrow\": [1,0,1,0,1,0,1,0,1,0]\n",
    "        }\n",
    "\n",
    "df = pd.DataFrame(data)"
   ]
  },
  {
   "cell_type": "code",
   "execution_count": null,
   "id": "ecb2f5c5",
   "metadata": {},
   "outputs": [],
   "source": [
    "# Training\n",
    "\n",
    "X = df.drop(\"RainTomorrow\", axis=1)\n",
    "Y = df[\"RainTomorrow\"]\n",
    "\n",
    "x_train, x_test, y_train, y_test = train_test_split(X,Y, test_size=0.2, random_state=42)\n",
    "\n",
    "rf = RandomForestClassifier(n_estimators=4, random_state=42)\n",
    "\n",
    "rf.fit(x_train, y_train)"
   ]
  },
  {
   "cell_type": "code",
   "execution_count": null,
   "id": "2f98aebb",
   "metadata": {},
   "outputs": [],
   "source": [
    "# Evaluation\n",
    "\n",
    "y_pred = rf.predict(x_test)\n",
    "\n",
    "accuracy = accuracy_score(y_test, y_pred)\n",
    "print(accuracy)"
   ]
  },
  {
   "cell_type": "code",
   "execution_count": null,
   "id": "d12a4450",
   "metadata": {},
   "outputs": [],
   "source": [
    "# Visualization\n",
    "\n",
    "fig, axes = plt.subplots(2, 2, figsize=(16, 12))\n",
    "\n",
    "plot_tree(rf.estimators_[0], feature_names=X.columns, class_names=[\"Yess\",\"Noo\"], filled=True, ax=axes[0, 0])\n",
    "axes[0, 0].set_title(\"Decision Tree 0\")\n",
    "\n",
    "plot_tree(rf.estimators_[1], feature_names=X.columns, class_names=[\"Yess\",\"Noo\"], filled=True, ax=axes[0, 1])\n",
    "axes[0, 1].set_title(\"Decision Tree 1\")\n",
    "\n",
    "plot_tree(rf.estimators_[2], feature_names=X.columns, class_names=[\"Yess\",\"Noo\"], filled=True, ax=axes[1, 0])\n",
    "axes[1, 0].set_title(\"Decision Tree 2\")\n",
    "\n",
    "plot_tree(rf.estimators_[3], feature_names=X.columns, class_names=[\"Yess\",\"Noo\"], filled=True, ax=axes[1, 1])\n",
    "axes[1, 1].set_title(\"Decision Tree 3\")\n",
    "\n",
    "plt.tight_layout()\n",
    "plt.show()\n"
   ]
  },
  {
   "cell_type": "code",
   "execution_count": null,
   "id": "e9536511",
   "metadata": {},
   "outputs": [],
   "source": [
    "# Loading dataset\n",
    "\n",
    "data = pd.read_csv(\"weather_classification_data.csv\")\n",
    "\n",
    "data.head()"
   ]
  },
  {
   "cell_type": "code",
   "execution_count": null,
   "id": "16800648",
   "metadata": {},
   "outputs": [],
   "source": [
    "# Preprocessing\n",
    "\n",
    "encoder = LabelEncoder()\n",
    "for i in [\"Cloud Cover\", \"Season\", \"Location\", \"Weather Type\"]:\n",
    "    data[f\"Enc {i}\"] = encoder.fit_transform(data[i])\n",
    "\n",
    "data = data.drop([\"Cloud Cover\", \"Season\", \"Location\", \"Weather Type\"], axis=1)\n",
    "data.head()\n"
   ]
  },
  {
   "cell_type": "code",
   "execution_count": null,
   "id": "5e51bd2b",
   "metadata": {},
   "outputs": [],
   "source": [
    "# Training\n",
    "\n",
    "X = data.drop([\"Enc Weather Type\"], axis=1)\n",
    "Y = data['Enc Weather Type']\n",
    "\n",
    "x_train, x_test, y_train, y_test = train_test_split(X,Y, test_size=0.2, random_state=42)\n",
    "\n",
    "rf = RandomForestClassifier(n_estimators=50, random_state=42)\n",
    "rf.fit(x_train, y_train)\n"
   ]
  },
  {
   "cell_type": "code",
   "execution_count": null,
   "id": "eef3dbc9",
   "metadata": {},
   "outputs": [],
   "source": [
    "# Evaluation\n",
    "\n",
    "y_pred = rf.predict(x_test)\n",
    "\n",
    "print(f\"Accuracy: {100*accuracy_score(y_pred,y_test):.3f}\")"
   ]
  },
  {
   "cell_type": "code",
   "execution_count": null,
   "id": "0ea0f7bc",
   "metadata": {},
   "outputs": [],
   "source": [
    "rf = RandomForestClassifier(n_estimators=50, random_state=42)\n",
    "rf.fit(x_train, y_train)\n",
    "\n",
    "# Check number of estimators\n",
    "print(\"Number of trained trees:\", len(rf.estimators_))\n"
   ]
  },
  {
   "cell_type": "code",
   "execution_count": null,
   "id": "ae2681a5",
   "metadata": {},
   "outputs": [],
   "source": [
    "# Visualization\n",
    "\n",
    "plt.figure(figsize=(10,6))\n",
    "plot_tree(rf.estimators_[4],feature_names=X.columns, filled=True)\n",
    "plt.title(\"Plot Tree\")\n",
    "plt.show()"
   ]
  }
 ],
 "metadata": {
  "kernelspec": {
   "display_name": "base",
   "language": "python",
   "name": "python3"
  },
  "language_info": {
   "codemirror_mode": {
    "name": "ipython",
    "version": 3
   },
   "file_extension": ".py",
   "mimetype": "text/x-python",
   "name": "python",
   "nbconvert_exporter": "python",
   "pygments_lexer": "ipython3",
   "version": "3.12.4"
  }
 },
 "nbformat": 4,
 "nbformat_minor": 5
}
