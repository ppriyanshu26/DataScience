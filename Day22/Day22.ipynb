{
 "cells": [
  {
   "cell_type": "markdown",
   "id": "7a42ecee",
   "metadata": {},
   "source": [
    "| **Method** | **Feature**|\n",
    "|--------|--------|\n",
    "|*KMeans Cluster* | `Based on Distance` |\n",
    "|*Agglomerative Cluster* | `Bottom Up Approach` |\n",
    "|*Hierarchical Cluster* | `Top Down Approach` |"
   ]
  },
  {
   "cell_type": "code",
   "execution_count": null,
   "id": "152bdab9",
   "metadata": {},
   "outputs": [],
   "source": [
    "import pandas as pd\n",
    "import matplotlib.pyplot as plt\n",
    "from sklearn.datasets import load_iris\n",
    "from sklearn.neighbors import KNeighborsClassifier\n",
    "from sklearn.model_selection import train_test_split\n",
    "import seaborn as sns\n",
    "from sklearn.decomposition import PCA\n",
    "from sklearn.cluster import AgglomerativeClustering, KMeans\n",
    "from sklearn.metrics import silhouette_score, davies_bouldin_score, accuracy_score\n",
    "from scipy.cluster.hierarchy import dendrogram, linkage"
   ]
  },
  {
   "cell_type": "code",
   "execution_count": null,
   "id": "9ae9b3e2",
   "metadata": {},
   "outputs": [],
   "source": [
    "# Dataset\n",
    "\n",
    "iris = load_iris()\n",
    "\n",
    "x = iris.data\n",
    "y = iris.target"
   ]
  },
  {
   "cell_type": "code",
   "execution_count": null,
   "id": "b5614f5c",
   "metadata": {},
   "outputs": [],
   "source": [
    "# KMeans\n",
    "\n",
    "x_train, x_test, y_train, y_test = train_test_split(x,y, test_size=0.2, random_state=42)\n",
    "\n",
    "knn = KNeighborsClassifier(n_neighbors=3)\n",
    "\n",
    "knn.fit(x_train, y_train)\n",
    "\n",
    "y_pred = knn.predict(x_test)\n",
    "\n",
    "print(f\"Accuracy: {100*accuracy_score(y_test,y_pred):.2f}%\")"
   ]
  },
  {
   "cell_type": "code",
   "execution_count": null,
   "id": "b89d612f",
   "metadata": {},
   "outputs": [],
   "source": [
    "# Plot\n",
    "\n",
    "plt.figure(figsize=(8, 6))\n",
    "plt.scatter(x_test[:, 0], x_test[:, 1], c=y_pred, cmap='viridis', edgecolor='k', s=100)\n",
    "plt.title(\"KNN Predictions\")\n",
    "plt.xlabel(\"Sepal Length\")\n",
    "plt.ylabel(\"Sepal Width\")\n",
    "plt.grid()\n",
    "plt.show()"
   ]
  },
  {
   "cell_type": "code",
   "execution_count": null,
   "id": "44021033",
   "metadata": {},
   "outputs": [],
   "source": [
    "# Agglomerative\n",
    "\n",
    "model = AgglomerativeClustering(n_clusters=3)\n",
    "\n",
    "y_pred = model.fit_predict(x)\n",
    "\n",
    "print(f\"Accuracy: {100*accuracy_score(y,y_pred):.2f}%\")"
   ]
  },
  {
   "cell_type": "code",
   "execution_count": null,
   "id": "8325ff00",
   "metadata": {},
   "outputs": [],
   "source": [
    "# Plot\n",
    "\n",
    "plt.figure(figsize=(8,6))\n",
    "plt.scatter(x[:,0],x[:,1], c=y_pred, marker='o')\n",
    "plt.title(\"Hierarchical Clustering\")\n",
    "plt.xlabel(\"Sepal Length\")\n",
    "plt.ylabel(\"Sepal Width\")\n",
    "plt.show()"
   ]
  },
  {
   "cell_type": "code",
   "execution_count": null,
   "id": "6ee12e65",
   "metadata": {},
   "outputs": [],
   "source": [
    "# Dendrogram\n",
    "\n",
    "linked = linkage(x,'ward')\n",
    "\n",
    "plt.figure(figsize=(10,7))\n",
    "dendrogram(linked, orientation='top', show_leaf_counts=True, distance_sort='ascending')\n",
    "plt.xlabel('Sample Index')\n",
    "plt.ylabel('Distance')\n",
    "plt.title('Dendrogram for Iris')\n",
    "plt.show()"
   ]
  },
  {
   "cell_type": "code",
   "execution_count": null,
   "id": "a7322c42",
   "metadata": {},
   "outputs": [],
   "source": [
    "# KMeans cluster\n",
    "\n",
    "iris = sns.load_dataset('iris')\n",
    "X = iris.drop('species',axis=1)\n",
    "\n",
    "model = KMeans(n_clusters=3, random_state=42)\n",
    "labels = model.fit_predict(X)"
   ]
  },
  {
   "cell_type": "code",
   "execution_count": null,
   "id": "8289a54f",
   "metadata": {},
   "outputs": [],
   "source": [
    "#Agglomerative cluster\n",
    "\n",
    "agg_model = AgglomerativeClustering(n_clusters=3)\n",
    "agg_labels = agg_model.fit_predict(X)"
   ]
  },
  {
   "cell_type": "code",
   "execution_count": null,
   "id": "13d83652",
   "metadata": {},
   "outputs": [],
   "source": [
    "# Principal component analysis\n",
    "\n",
    "pca = PCA(n_components=2)\n",
    "X_red = pca.fit_transform(X)"
   ]
  },
  {
   "cell_type": "code",
   "execution_count": null,
   "id": "1c02088f",
   "metadata": {},
   "outputs": [],
   "source": [
    "# Plot\n",
    "\n",
    "fig, (ax1,ax2,ax3) = plt.subplots(1,3, figsize=(12,6))\n",
    "\n",
    "ax1.scatter(X_red[:,0], X_red[:, 1], c = agg_labels)\n",
    "ax1.set_title(\"Agglomerative clustering\")\n",
    "\n",
    "\n",
    "ax2.scatter(X_red[:, 0], X_red[:, 1], c=labels)\n",
    "ax2.set_title(\"Kmeans clustering\")\n",
    "\n",
    "\n",
    "ax3.scatter(X_red[:, 0], X_red[:, 1], c=iris['species'].map(lambda i:['setosa','virginica','versicolor'].index(i)))\n",
    "ax3.set_title(\"Actual classification\")\n",
    "\n",
    "plt.show()"
   ]
  },
  {
   "cell_type": "code",
   "execution_count": null,
   "id": "0e954792",
   "metadata": {},
   "outputs": [],
   "source": [
    "# Metrics\n",
    "\n",
    "res = pd.DataFrame({'Silhouette Score':[silhouette_score(X, iris['species']),silhouette_score(X, labels),silhouette_score(X, agg_labels)],\n",
    "                    'Davies Bouldin Score':[davies_bouldin_score(X, iris['species']),davies_bouldin_score(X, labels),davies_bouldin_score(X, agg_labels)]})\n",
    "\n",
    "res.index = ['Actual', 'KMeans', 'Agglomerative']\n",
    "print(res)"
   ]
  },
  {
   "cell_type": "code",
   "execution_count": null,
   "id": "98652d05",
   "metadata": {},
   "outputs": [],
   "source": [
    "# Dendrogram linkages\n",
    "\n",
    "ward = linkage(X.head(20), method=\"ward\")\n",
    "average = linkage(X.head(20), method=\"average\")\n",
    "single = linkage(X.head(20), method=\"single\")\n",
    "complete = linkage(X.head(20), method=\"complete\")"
   ]
  },
  {
   "cell_type": "code",
   "execution_count": null,
   "id": "3c96b080",
   "metadata": {},
   "outputs": [],
   "source": [
    "# Plot\n",
    "\n",
    "fig, ax = plt.subplots(2, 2, figsize=(12, 10))\n",
    "\n",
    "\n",
    "dendrogram(ward, ax=ax[0,0])\n",
    "ax[0,0].set_title(\"Dendogram using ward linkage\")\n",
    "\n",
    "\n",
    "dendrogram(average, ax=ax[0,1])\n",
    "ax[0,1].set_title(\"Dendogram using Average linkage\")\n",
    "\n",
    "\n",
    "dendrogram(single, ax=ax[1,0])\n",
    "ax[1,0].set_title(\"Dendogram Single linkage\")\n",
    "\n",
    "dendrogram(complete, ax=ax[1,1])\n",
    "ax[1,1].set_title(\"Dendogram Complete linkage\")\n",
    "\n",
    "plt.show()"
   ]
  }
 ],
 "metadata": {
  "kernelspec": {
   "display_name": "base",
   "language": "python",
   "name": "python3"
  },
  "language_info": {
   "codemirror_mode": {
    "name": "ipython",
    "version": 3
   },
   "file_extension": ".py",
   "mimetype": "text/x-python",
   "name": "python",
   "nbconvert_exporter": "python",
   "pygments_lexer": "ipython3",
   "version": "3.12.4"
  }
 },
 "nbformat": 4,
 "nbformat_minor": 5
}
