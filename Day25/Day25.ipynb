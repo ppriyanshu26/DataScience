{
 "cells": [
  {
   "cell_type": "markdown",
   "id": "4cfff365",
   "metadata": {},
   "source": [
    "# **🤖 Deep Learning**\n",
    "\n",
    "---\n",
    "\n",
    "## 📥 Inputs & Weights\n",
    "- Each input (feature) is connected to a neuron.\n",
    "- **Weights** determine the importance of each input.\n",
    "- Weighted inputs are summed before activation.\n",
    "\n",
    "---\n",
    "\n",
    "## ⚡ Activation Function\n",
    "- Introduces **non-linearity** to the network.\n",
    "- Common types: **ReLU**, **Sigmoid**, **Tanh**.\n",
    "- Helps the model learn complex patterns.\n",
    "\n",
    "---\n",
    "\n",
    "## 🎛 Input Layer\n",
    "- First layer of the network.\n",
    "- Takes raw data (e.g. pixel values, numbers).\n",
    "- Passes it to the next layer via weights.\n",
    "\n",
    "---\n",
    "\n",
    "## 🧠 Hidden Layers\n",
    "- One or more layers between input & output.\n",
    "- Learn intermediate features.\n",
    "- Deeper networks = more layers = better at abstract patterns.\n",
    "\n",
    "---\n",
    "\n",
    "## 🎯 Output Layer\n",
    "- Final layer that produces predictions.\n",
    "- Classification: **Softmax** (probabilities).\n",
    "- Regression: No activation or linear.\n",
    "\n",
    "---\n",
    "\n",
    "## 🔁 Backpropagation\n",
    "- Algorithm for **training** the model.\n",
    "- Calculates error at output.\n",
    "- **Propagates** the error backward through the network.\n",
    "- Adjusts weights using **gradient descent** to minimize loss.\n",
    "\n",
    "---"
   ]
  },
  {
   "cell_type": "code",
   "execution_count": 1,
   "id": "d53896fa",
   "metadata": {},
   "outputs": [],
   "source": [
    "import pandas as pd\n",
    "import numpy as np\n",
    "from keras.models import Sequential\n",
    "from keras.layers import Dense"
   ]
  },
  {
   "cell_type": "code",
   "execution_count": null,
   "id": "d339b5da",
   "metadata": {},
   "outputs": [],
   "source": [
    "# Dataset\n",
    "\n",
    "data = {'feature1':[0.1,0.2,0.3,0.4,0.5],\n",
    "        'feature2':[0.5,0.4,0.3,0.2,0.1],\n",
    "        'label':[0,0,1,1,1]}\n",
    "\n",
    "df = pd.DataFrame(data)"
   ]
  },
  {
   "cell_type": "code",
   "execution_count": null,
   "id": "856c46d1",
   "metadata": {},
   "outputs": [],
   "source": [
    "# Input layers\n",
    "\n",
    "x = df[['feature1','feature2']].values\n",
    "y = df['label'].values"
   ]
  },
  {
   "cell_type": "code",
   "execution_count": null,
   "id": "36016b76",
   "metadata": {},
   "outputs": [],
   "source": [
    "model = Sequential()"
   ]
  }
 ],
 "metadata": {
  "kernelspec": {
   "display_name": "Python 3",
   "language": "python",
   "name": "python3"
  },
  "language_info": {
   "codemirror_mode": {
    "name": "ipython",
    "version": 3
   },
   "file_extension": ".py",
   "mimetype": "text/x-python",
   "name": "python",
   "nbconvert_exporter": "python",
   "pygments_lexer": "ipython3",
   "version": "3.12.5"
  }
 },
 "nbformat": 4,
 "nbformat_minor": 5
}
