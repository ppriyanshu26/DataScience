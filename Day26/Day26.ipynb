{
 "cells": [
  {
   "cell_type": "markdown",
   "id": "fe10d2f6",
   "metadata": {},
   "source": [
    "# **🧠 Convolution Neural Network Components**\n",
    "\n",
    "---\n",
    "\n",
    "## 🌀 Convolution\n",
    "- Applies filters (kernels) to the input image.\n",
    "- Extracts features like edges, textures, etc.\n",
    "- Output = **feature map** (a compressed view of input).\n",
    "\n",
    "---\n",
    "\n",
    "## 📈 Non-Linearity (Activation)\n",
    "- Applies a function like **ReLU** (max(0, x)).\n",
    "- Adds **non-linearity** to the model.\n",
    "- Helps CNN learn complex patterns.\n",
    "\n",
    "---\n",
    "\n",
    "## 🧹 Subsampling / Pooling\n",
    "- **Max Pooling**: Takes the max value in a region.\n",
    "- Reduces spatial size → less computation, less overfitting.\n",
    "- Keeps important features, discards noise.\n",
    "\n",
    "---\n",
    "\n",
    "## 🧮 Classification / Fully Connected Layer\n",
    "- Flattened output from previous layers → dense layers.\n",
    "- Acts like a traditional neural network.\n",
    "- Final layer uses **softmax** to output class probabilities.\n",
    "\n",
    "---"
   ]
  },
  {
   "cell_type": "code",
   "execution_count": 63,
   "id": "9d902a34",
   "metadata": {},
   "outputs": [],
   "source": [
    "from keras.datasets import mnist\n",
    "from keras.models import Sequential\n",
    "from keras.layers import Dense, Conv2D, MaxPool2D, Flatten\n",
    "from keras.utils import to_categorical\n",
    "import numpy as np\n",
    "import matplotlib.pyplot as plt"
   ]
  },
  {
   "cell_type": "code",
   "execution_count": null,
   "id": "1bfca605",
   "metadata": {},
   "outputs": [],
   "source": [
    "# Dataset\n",
    "\n",
    "(x_train,y_train),(x_test,y_test)=mnist.load_data()\n",
    "print(x_test.shape)"
   ]
  },
  {
   "cell_type": "code",
   "execution_count": null,
   "id": "06409cb6",
   "metadata": {},
   "outputs": [],
   "source": [
    "# Normalize\n",
    "\n",
    "x_train = x_train.reshape(60000, 28, 28, 1).astype('float32') / 255\n",
    "x_test = x_test.reshape(10000, 28, 28, 1).astype('float32') / 255\n",
    "\n",
    "x_train /= 255\n",
    "x_test /= 255"
   ]
  },
  {
   "cell_type": "code",
   "execution_count": null,
   "id": "cc6542a9",
   "metadata": {},
   "outputs": [],
   "source": [
    "print(y_train.shape)"
   ]
  },
  {
   "cell_type": "code",
   "execution_count": null,
   "id": "9c009487",
   "metadata": {},
   "outputs": [],
   "source": [
    "# Encoding\n",
    "\n",
    "n_classes = 10\n",
    "y_train = to_categorical(y_train, n_classes)\n",
    "y_test = to_categorical(y_test, n_classes)"
   ]
  },
  {
   "cell_type": "code",
   "execution_count": null,
   "id": "a6a83f83",
   "metadata": {},
   "outputs": [],
   "source": [
    "# Model\n",
    "\n",
    "model = Sequential()\n",
    "\n",
    "model.add(Conv2D(filters=25,kernel_size=(3,3),strides=(1,1),padding='valid',activation='relu',input_shape=(28,28,1)))\n",
    "model.add(MaxPool2D(pool_size=(1,1)))\n",
    "model.add(Flatten())\n",
    "model.add(Dense(100,activation='relu'))\n",
    "model.add(Dense(10,activation='softmax'))\n",
    "\n",
    "model.compile(loss='categorical_crossentropy',metrics=['accuracy'],optimizer='adam')\n",
    "\n",
    "model.summary()"
   ]
  },
  {
   "cell_type": "code",
   "execution_count": null,
   "id": "aef27c4b",
   "metadata": {},
   "outputs": [],
   "source": [
    "# Training\n",
    "\n",
    "model.fit(x_train,y_train,batch_size=128,epochs=10,validation_data=(x_test,y_test))"
   ]
  },
  {
   "cell_type": "code",
   "execution_count": null,
   "id": "e82c94ec",
   "metadata": {},
   "outputs": [],
   "source": [
    "# Predictions\n",
    "\n",
    "y_pred = model.predict(x_test)\n"
   ]
  },
  {
   "cell_type": "code",
   "execution_count": null,
   "id": "35a8899e",
   "metadata": {},
   "outputs": [],
   "source": [
    "# Accuracy\n",
    "\n",
    "predicted_classes = np.argmax(y_pred, axis=1)\n",
    "true_classes = np.argmax(y_test, axis=1)\n",
    "\n",
    "accuracy = np.mean(predicted_classes == true_classes)\n",
    "print(f\"Test accuracy: {100*accuracy:.2f}%\")"
   ]
  },
  {
   "cell_type": "code",
   "execution_count": null,
   "id": "a2d5843b",
   "metadata": {},
   "outputs": [],
   "source": [
    "# Plot\n",
    "\n",
    "for i in range(3):\n",
    "    plt.imshow(x_test[i].reshape(28,28), cmap='gray')\n",
    "    plt.title(f\"Predicted: {predicted_classes[i]}, Actual: {true_classes[i]}\")\n",
    "    plt.axis('off')\n",
    "    plt.show()"
   ]
  }
 ],
 "metadata": {
  "kernelspec": {
   "display_name": "Python 3",
   "language": "python",
   "name": "python3"
  },
  "language_info": {
   "codemirror_mode": {
    "name": "ipython",
    "version": 3
   },
   "file_extension": ".py",
   "mimetype": "text/x-python",
   "name": "python",
   "nbconvert_exporter": "python",
   "pygments_lexer": "ipython3",
   "version": "3.12.5"
  }
 },
 "nbformat": 4,
 "nbformat_minor": 5
}
